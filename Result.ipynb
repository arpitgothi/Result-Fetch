{
  "nbformat": 4,
  "nbformat_minor": 0,
  "metadata": {
    "colab": {
      "name": "IT Result.ipynb",
      "provenance": [],
      "collapsed_sections": [],
      "authorship_tag": "ABX9TyO39gmT4fYenZ3tj+WCsyRo",
      "include_colab_link": true
    },
    "kernelspec": {
      "name": "python3",
      "display_name": "Python 3"
    }
  },
  "cells": [
    {
      "cell_type": "markdown",
      "metadata": {
        "id": "view-in-github",
        "colab_type": "text"
      },
      "source": [
        "<a href=\"https://colab.research.google.com/github/arpitgothi/Result-Fetch/blob/master/Result.ipynb\" target=\"_parent\"><img src=\"https://colab.research.google.com/assets/colab-badge.svg\" alt=\"Open In Colab\"/></a>"
      ]
    },
    {
      "cell_type": "code",
      "metadata": {
        "id": "yXJxeISauZ3W",
        "colab_type": "code",
        "colab": {}
      },
      "source": [
        "from bs4 import BeautifulSoup\n",
        "import urllib\n",
        "import csv\n",
        "import requests\n",
        "headers={\n",
        "    'User-Agent': 'Mozilla/5.0 (Windows NT 10.0; Win64; x64) AppleWebKit/537.36 (KHTML, like Gecko) Chrome/84.0.4147.89 Safari/537.36'\n",
        "}\n",
        "\n",
        "post_params = {\n",
        "    \n",
        "    '__LASTFOCUS':'',\n",
        "    '__EVENTTARGET': 'btnSearch',\n",
        "    '__EVENTARGUMENT': '',\n",
        "    '__VIEWSTATE': '/wEPDwULLTE1NjI2NDEzNjgPFgIeDFByZXZpb3VzUGFnZQUzaHR0cDovLzExNy4yMzkuODMuMjAwOjIwMjAvZnJtVW5pdmVyc2l0eVJlc3VsdC5hc3B4FgICAw9kFgICAQ9kFgRmD2QWDAIFDxAPFgYeDURhdGFUZXh0RmllbGQFBUFsaWFzHg5EYXRhVmFsdWVGaWVsZAULSW5zdGl0dXRlSUQeC18hRGF0YUJvdW5kZ2QQFQoJU2VsZWN0Li4uBUNTUElUBkNNUElDQQRSUENQBElJSU0GUERQSUFTBEFSSVAETVRJTgRDSVBTB0RFUFNUQVIVCgEwATEBMgEzATQBNQE2AjE2AjE5AjIxFCsDCmdnZ2dnZ2dnZ2cWAQIBZAIHDxAPFgYfAQUKRGVncmVlQ29kZR8CBQhEZWdyZWVJRB8DZ2QQFRoJU2VsZWN0Li4uCUJURUNIKENFKQlCVEVDSChDTCkJQlRFQ0goQ1MpCUJURUNIKEVDKQlCVEVDSChFRSkJQlRFQ0goSVQpCUJURUNIKE1FKQREUkNFBERSQ0wERFJFQwREUkVFBERSTUUKTVRFQ0goQU1UKQlNVEVDSChDRSkJTVRFQ0goQ0wpCk1URUNIKENTRSkJTVRFQ0goRUMpCU1URUNIKEVFKQpNVEVDSChFVkQpCk1URUNIKElDVCkJTVRFQ0goSVQpCU1URUNIKE1FKQlNVEVDSChQRSkJTVRFQ0goVEUpA01UTRUaATACMzkCNDEDMTU1AjQwAjM3AjM4AjM2AjgyAjkwAjcwAjcyAjcxAzEwNgI2NQMxMDUDMTQwAjYxAjg3AzExNgMxNDICOTUCNjADMTQzAzE0MQMxMTAUKwMaZ2dnZ2dnZ2dnZ2dnZ2dnZ2dnZ2dnZ2dnZ2cWAQIGZAIJDxAPFgYfAQUDU2VtHwIFA1NlbR8DZ2QQFQkJU2VsZWN0Li4uATEBMgEzATQBNQE2ATcBOBUJATABMQEyATMBNAE1ATYBNwE4FCsDCWdnZ2dnZ2dnZxYBAgZkAgsPEA8WBh8BBQ1FeGFtTW9udGhZZWFyHwIFDlNjaGVkdWxlRXhhbUlEHwNnZBAVDwlTZWxlY3QuLi4KQVBSSUwgMjAyMA5TRVBURU1CRVIgMjAxOQpBUFJJTCAyMDE5DlNFUFRFTUJFUiAyMDE4CE1BWSAyMDE4DE9DVE9CRVIgMjAxNwhNQVkgMjAxNw1OT1ZFTUJFUiAyMDE2CE1BWSAyMDE2DU5PVkVNQkVSIDIwMTUITUFZIDIwMTUNTk9WRU1CRVIgMjAxNApBUFJJTCAyMDE0DURFQ0VNQkVSIDIwMTMVDwEwBDQ2MjEENDMxNwQ0MDM4BDM3MzMEMzUxMwQzMjI0BDMwNjEEMjgwOAQyNjQxBDI0MDIEMjIzNAQyMDg2BDE5NzYEMTgwMBQrAw9nZ2dnZ2dnZ2dnZ2dnZ2dkZAIPDw9kFgIeB29uY2xpY2sFUCB0aGlzLnZhbHVlPSJQcm9jZXNzaW5nLi4iIDt0aGlzLmRpc2FibGVkID0gdHJ1ZTsgX19kb1Bvc3RCYWNrKCdidG5TZWFyY2gnLCcnKSA7ZAIRDw8WAh4EVGV4dGVkZAIBD2QWAgIBD2QWAgITDzwrAA0AZBgCBQhtdlJlc3VsdA8PZGZkBRF1Y2xHcmQxJGdyZFJlc3VsdA9nZPmHXOt+NCNIP/VBG55AYfW4yDSK',\n",
        "    '__VIEWSTATEGENERATOR': 'F859A3E9',\n",
        "    'ddlInst': 1,\n",
        "    'ddlDegree': 38,\n",
        "    'ddlSem': 6,\n",
        "    'ddlScheduleExam': 4621,\n",
        "    \n",
        "    }\n",
        "url=\"http://117.239.83.200:2020/\"\n",
        "\n"
      ],
      "execution_count": null,
      "outputs": []
    },
    {
      "cell_type": "code",
      "metadata": {
        "id": "x5UogNA6z-zR",
        "colab_type": "code",
        "colab": {}
      },
      "source": [
        "# Make a GET request to fetch the raw HTML content\n",
        "html_content = requests.get(url,headers=headers).text\n"
      ],
      "execution_count": null,
      "outputs": []
    },
    {
      "cell_type": "code",
      "metadata": {
        "id": "soKnJvAyz6dE",
        "colab_type": "code",
        "colab": {}
      },
      "source": [
        "#results={}\n",
        "#for x in range (132,141):\n",
        " # if(x<10):\n",
        "  #  id=\"17it00\"+str(x)\n",
        "  #elif(x<100):\n",
        "  #  if(x==21 or x==95):\n",
        "  #    id==\"17it0\"+str(22)\n",
        "  #  else:\n",
        "   #   id=\"17it0\"+str(x)\n",
        "  #elif(x<132):\n",
        "  #  if(x==117):\n",
        "   #   id==\"17it0\"+str(22)\n",
        "   # else:\n",
        "    #  id=\"17it\"+str(x)\n",
        "  #else:\n",
        "  #  id=\"d18it\"+str(x)\n",
        "  \n",
        "for x in range (1,132):\n",
        "  if(x==21 or x==95 or x==117):\n",
        "      continue\n",
        "  else:\n",
        "    if(x<10):     id=\"17it00\" + str(x)\n",
        "    elif(x<100):  id=\"17it0\"  + str(x)\n",
        "    elif(x<132):  id=\"17it\"   + str(x)\n",
        "    else:         id=\"d18it\"  + str(x)\n",
        "\n",
        "  newd={\n",
        "      'txtEnrNo':id\n",
        "  }\n",
        "  post_params.update(newd)\n",
        "  soup = BeautifulSoup(html_content, \"lxml\")\n",
        "  post_params['__VIEWSTATEGENERATOR']=soup.find('input', attrs={'name':'__VIEWSTATEGENERATOR'})['value']\n",
        "  result=requests.post(url,data=post_params,headers=headers)\n",
        " \n",
        " # print(html_contents.text)\n",
        "  print(id)\n",
        " \n",
        "  soup_result = BeautifulSoup(result.text) \n",
        "  n=soup_result.find(\"span\",id='uclGrd1_lblStudentName')\n",
        "  if(n!=None):\n",
        "    s=soup_result.find(\"span\",id='uclGrd1_lblSGPA')\n",
        "    name=n.text\n",
        "    sgpa=s.text\n",
        "    print(name)\n",
        "    print(sgpa)\n",
        "    #temp={'student_ID': id, 'Name': name, '7th_sem_SGPA': sgpa}\n",
        "    #results.update(temp)\n",
        "\n",
        "\n",
        "    \n",
        "    #csvRow = [id ,name ,sgpa]\n",
        "    with open('/content/Result.csv', mode='a') as csv_file:\n",
        "      fieldnames = ['student_ID', 'Name', '7th_sem_SGPA']\n",
        "      writer = csv.DictWriter(csv_file, fieldnames=fieldnames)\n",
        "      #writer.writeheader()\n",
        "      #writer.writerow(csvRow)\n",
        "      writer.writerow({'student_ID': id, 'Name': name, '7th_sem_SGPA': sgpa})\n",
        "    \n"
      ],
      "execution_count": null,
      "outputs": []
    },
    {
      "cell_type": "code",
      "metadata": {
        "id": "xAXMehVrLCKl",
        "colab_type": "code",
        "colab": {
          "base_uri": "https://localhost:8080/",
          "height": 17
        },
        "outputId": "0863ea40-0407-41a0-a521-2c38232e3940"
      },
      "source": [
        "from google.colab import files\n",
        "files.download('Result.csv')\n"
      ],
      "execution_count": null,
      "outputs": [
        {
          "output_type": "display_data",
          "data": {
            "application/javascript": [
              "\n",
              "    async function download(id, filename, size) {\n",
              "      if (!google.colab.kernel.accessAllowed) {\n",
              "        return;\n",
              "      }\n",
              "      const div = document.createElement('div');\n",
              "      const label = document.createElement('label');\n",
              "      label.textContent = `Downloading \"${filename}\": `;\n",
              "      div.appendChild(label);\n",
              "      const progress = document.createElement('progress');\n",
              "      progress.max = size;\n",
              "      div.appendChild(progress);\n",
              "      document.body.appendChild(div);\n",
              "\n",
              "      const buffers = [];\n",
              "      let downloaded = 0;\n",
              "\n",
              "      const channel = await google.colab.kernel.comms.open(id);\n",
              "      // Send a message to notify the kernel that we're ready.\n",
              "      channel.send({})\n",
              "\n",
              "      for await (const message of channel.messages) {\n",
              "        // Send a message to notify the kernel that we're ready.\n",
              "        channel.send({})\n",
              "        if (message.buffers) {\n",
              "          for (const buffer of message.buffers) {\n",
              "            buffers.push(buffer);\n",
              "            downloaded += buffer.byteLength;\n",
              "            progress.value = downloaded;\n",
              "          }\n",
              "        }\n",
              "      }\n",
              "      const blob = new Blob(buffers, {type: 'application/binary'});\n",
              "      const a = document.createElement('a');\n",
              "      a.href = window.URL.createObjectURL(blob);\n",
              "      a.download = filename;\n",
              "      div.appendChild(a);\n",
              "      a.click();\n",
              "      div.remove();\n",
              "    }\n",
              "  "
            ],
            "text/plain": [
              "<IPython.core.display.Javascript object>"
            ]
          },
          "metadata": {
            "tags": []
          }
        },
        {
          "output_type": "display_data",
          "data": {
            "application/javascript": [
              "download(\"download_f71d6874-47a3-45a0-b0ff-b5b5bc4861c2\", \"Book1.csv\", 6217)"
            ],
            "text/plain": [
              "<IPython.core.display.Javascript object>"
            ]
          },
          "metadata": {
            "tags": []
          }
        }
      ]
    }
  ]
}